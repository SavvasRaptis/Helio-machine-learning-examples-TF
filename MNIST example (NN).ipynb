{
 "cells": [
  {
   "cell_type": "markdown",
   "id": "eight-insured",
   "metadata": {},
   "source": [
    "# Initialization\n",
    "\n",
    "## Importing libraries\n",
    "\n",
    "As a first step we load the different libraries we are going to use, in this simple example we only need tensorflow (keras) and numpy"
   ]
  },
  {
   "cell_type": "code",
   "execution_count": 33,
   "id": "athletic-singapore",
   "metadata": {},
   "outputs": [],
   "source": [
    "import tensorflow as tf\n",
    "import numpy as np\n",
    "from tensorflow.keras import backend as K\n",
    "from tensorflow import keras\n",
    "from tensorflow.keras import layers\n",
    "from tensorflow.keras.layers import Dense,Input\n",
    "from tensorflow.keras.callbacks import ModelCheckpoint\n",
    "from tensorflow.keras.layers import BatchNormalization,Dropout,Flatten\n",
    "from tensorflow.keras.layers import LeakyReLU,PReLU,ELU,ThresholdedReLU,ReLU\n",
    "from sklearn.metrics import classification_report\n",
    "from sklearn.metrics import confusion_matrix"
   ]
  },
  {
   "cell_type": "markdown",
   "id": "wrong-selling",
   "metadata": {},
   "source": [
    "## Data related parameters\n",
    "\n",
    "We define a few parameters related to the data we are going to use"
   ]
  },
  {
   "cell_type": "code",
   "execution_count": 2,
   "id": "agricultural-server",
   "metadata": {},
   "outputs": [],
   "source": [
    "# Parameters of the model \n",
    "num_classes = 10 # number of output class (1-9)\n",
    "input_shape = (28, 28, 1) # shape of the input, we have 28 x 28 pixel size images of each number\n"
   ]
  },
  {
   "cell_type": "markdown",
   "id": "ethical-status",
   "metadata": {},
   "source": [
    "## Loading Data\n",
    "\n",
    "Next step is to actually load the MNIST database and perform some simple pre-process in order to introduce it to the neural network\n"
   ]
  },
  {
   "cell_type": "code",
   "execution_count": 3,
   "id": "twenty-marketing",
   "metadata": {},
   "outputs": [
    {
     "name": "stdout",
     "output_type": "stream",
     "text": [
      "Downloading data from https://storage.googleapis.com/tensorflow/tf-keras-datasets/mnist.npz\n",
      "11493376/11490434 [==============================] - 0s 0us/step\n",
      "x_train shape: (60000, 28, 28, 1)\n",
      "60000 train samples\n",
      "10000 test samples\n"
     ]
    }
   ],
   "source": [
    "(x_train, y_train), (x_test, y_test) = tf.keras.datasets.mnist.load_data() # we load the data from keras.datsets library\n",
    "\n",
    "# This automatically generates the train & test set (otherwise we could have done it manually or through another library)\n",
    "\n",
    "## Normalization ##\n",
    "# Scale images to the [0, 1] range\n",
    "x_train = x_train.astype(\"float32\") / 255 # images are encoded with up to 256 so to normalize from 0-1 we simply divide\n",
    "x_test = x_test.astype(\"float32\") / 255\n",
    "\n",
    "# Make sure images have shape (28, 28, 1)\n",
    "x_train = np.expand_dims(x_train, -1)\n",
    "x_test = np.expand_dims(x_test, -1)\n",
    "print(\"x_train shape:\", x_train.shape)\n",
    "print(x_train.shape[0], \"train samples\")\n",
    "print(x_test.shape[0], \"test samples\")\n",
    "\n",
    "\n",
    "# convert class vectors to binary class matrices\n",
    "y_train = keras.utils.to_categorical(y_train, num_classes)\n",
    "y_test = keras.utils.to_categorical(y_test, num_classes)\n"
   ]
  },
  {
   "cell_type": "markdown",
   "id": "median-survivor",
   "metadata": {},
   "source": [
    "## Model related parameters\n",
    "\n",
    "Here we define hyperparameters that are going to be used in the model and training below\n"
   ]
  },
  {
   "cell_type": "code",
   "execution_count": 4,
   "id": "iraqi-biodiversity",
   "metadata": {},
   "outputs": [],
   "source": [
    "n_epochs = 5 # Number of epochs, where 1 epoch = 1 use of the training set\n",
    "n_batch_size = 128 # how many inputs are going to be used at the same time during one epoch. \n",
    "# note: small batch size can make the training faster but can make the generalization harder to achieve (less variety in sample)\n",
    "\n",
    "# number of neurons for the 3 hidden layers\n",
    "neurons_l1 = 400\n",
    "neurons_l2 = 200\n",
    "neurons_l3 = 150"
   ]
  },
  {
   "cell_type": "markdown",
   "id": "viral-eight",
   "metadata": {},
   "source": [
    "## Generating & compiling the model\n",
    "\n",
    "Below we'll create and compile the feed forward neural network we will use for this task"
   ]
  },
  {
   "cell_type": "code",
   "execution_count": 25,
   "id": "educational-brook",
   "metadata": {},
   "outputs": [],
   "source": [
    "\n",
    "model = keras.Sequential()\n",
    "model.add(Flatten()) # Since the image is 2D we need to \"flatten\" it into a single array in order to be used as input \n",
    "model.add(Dense(neurons_l1))\n",
    "model.add(ReLU()) # one can use other activation functions for the same purpose (check a few if you want)\n",
    "model.add(Dense(neurons_l2))\n",
    "model.add(ReLU())\n",
    "model.add(Dense(neurons_l3))\n",
    "model.add(ReLU())\n",
    "model.add(Dropout(0.5)) # this layers protects the model from overfitting to the test data. Can we replace it maybe?\n",
    "model.add(Dense(num_classes,activation='softmax')) # multi-class classification problem : softmax activation\n",
    "model.compile(\n",
    "              optimizer=\"adam\", # any optimizer works well, adam is a standard choice for simple problems\n",
    "              loss=\"categorical_crossentropy\", # loss function for classification = crossentropy\n",
    "              metrics=[\"accuracy\"])"
   ]
  },
  {
   "cell_type": "markdown",
   "id": "maritime-square",
   "metadata": {},
   "source": [
    "## Example of Training proccedure\n",
    "\n",
    "\n",
    "Let's now train our model for a few epochs"
   ]
  },
  {
   "cell_type": "code",
   "execution_count": 35,
   "id": "varied-assurance",
   "metadata": {},
   "outputs": [
    {
     "name": "stdout",
     "output_type": "stream",
     "text": [
      "Epoch 1/5\n",
      "469/469 [==============================] - 3s 7ms/step - loss: 0.3145 - accuracy: 0.9064\n",
      "Epoch 2/5\n",
      "469/469 [==============================] - 3s 7ms/step - loss: 0.1152 - accuracy: 0.9661\n",
      "Epoch 3/5\n",
      "469/469 [==============================] - 4s 8ms/step - loss: 0.0784 - accuracy: 0.9769\n",
      "Epoch 4/5\n",
      "469/469 [==============================] - 3s 7ms/step - loss: 0.0571 - accuracy: 0.9829\n",
      "Epoch 5/5\n",
      "469/469 [==============================] - 3s 7ms/step - loss: 0.0449 - accuracy: 0.9865\n"
     ]
    }
   ],
   "source": [
    "history = model.fit(x_train, y_train, epochs=n_epochs, batch_size=n_batch_size)"
   ]
  },
  {
   "cell_type": "markdown",
   "id": "embedded-program",
   "metadata": {},
   "source": [
    "## Evaluation\n",
    "\n",
    "To evulate our model we need to see how well it performs to unknown data (test set):"
   ]
  },
  {
   "cell_type": "code",
   "execution_count": 36,
   "id": "measured-asset",
   "metadata": {},
   "outputs": [
    {
     "name": "stdout",
     "output_type": "stream",
     "text": [
      "Test loss: 0.06685923784971237\n",
      "Test accuracy: 0.9807000160217285\n"
     ]
    }
   ],
   "source": [
    "score = model.evaluate(x_test, y_test, verbose=0)\n",
    "print(\"Test loss:\", score[0])\n",
    "print(\"Test accuracy:\", score[1])"
   ]
  },
  {
   "cell_type": "code",
   "execution_count": 39,
   "id": "flexible-advocacy",
   "metadata": {},
   "outputs": [
    {
     "name": "stdout",
     "output_type": "stream",
     "text": [
      "[[ 973    0    1    2    0    0    1    0    2    1]\n",
      " [   0 1126    2    1    0    0    2    0    4    0]\n",
      " [   6    1 1013    1    2    0    2    5    2    0]\n",
      " [   0    0    3  986    0    1    0    6    6    8]\n",
      " [   2    0    0    0  969    0    4    2    0    5]\n",
      " [   3    0    0   12    4  864    3    0    3    3]\n",
      " [   4    2    3    1    8    5  934    0    1    0]\n",
      " [   0    1    6    0    2    0    0 1009    3    7]\n",
      " [   5    1    2    3    4    4    0    4  947    4]\n",
      " [   2    5    0    2    9    1    0    3    1  986]]\n",
      "              precision    recall  f1-score   support\n",
      "\n",
      "           0       0.98      0.99      0.99       980\n",
      "           1       0.99      0.99      0.99      1135\n",
      "           2       0.98      0.98      0.98      1032\n",
      "           3       0.98      0.98      0.98      1010\n",
      "           4       0.97      0.99      0.98       982\n",
      "           5       0.99      0.97      0.98       892\n",
      "           6       0.99      0.97      0.98       958\n",
      "           7       0.98      0.98      0.98      1028\n",
      "           8       0.98      0.97      0.97       974\n",
      "           9       0.97      0.98      0.97      1009\n",
      "\n",
      "    accuracy                           0.98     10000\n",
      "   macro avg       0.98      0.98      0.98     10000\n",
      "weighted avg       0.98      0.98      0.98     10000\n",
      "\n"
     ]
    }
   ],
   "source": [
    "predictions = model.predict_classes(x_test)\n",
    "y_test_binary = np.argmax(y_test, axis=1)\n",
    "    \n",
    "cr = classification_report(y_test_binary, predictions)\n",
    "cm = confusion_matrix(y_test_binary, predictions)\n",
    "print(cm)\n",
    "print(cr)"
   ]
  }
 ],
 "metadata": {
  "kernelspec": {
   "display_name": "Python 3 (ipykernel)",
   "language": "python",
   "name": "python3"
  },
  "language_info": {
   "codemirror_mode": {
    "name": "ipython",
    "version": 3
   },
   "file_extension": ".py",
   "mimetype": "text/x-python",
   "name": "python",
   "nbconvert_exporter": "python",
   "pygments_lexer": "ipython3",
   "version": "3.8.13"
  }
 },
 "nbformat": 4,
 "nbformat_minor": 5
}
