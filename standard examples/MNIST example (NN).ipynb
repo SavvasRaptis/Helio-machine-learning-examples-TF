{
 "cells": [
  {
   "cell_type": "markdown",
   "id": "eight-insured",
   "metadata": {},
   "source": [
    "# Initialization\n",
    "\n",
    "## Importing libraries\n",
    "\n",
    "As a first step we load the different libraries we are going to use, in this simple example we only need tensorflow (keras) and numpy"
   ]
  },
  {
   "cell_type": "code",
   "execution_count": 1,
   "id": "athletic-singapore",
   "metadata": {},
   "outputs": [],
   "source": [
    "import tensorflow as tf\n",
    "import numpy as np\n",
    "from tensorflow.keras import backend as K\n",
    "from tensorflow import keras\n",
    "from tensorflow.keras import layers\n",
    "from tensorflow.keras.layers import Dense,Input\n",
    "from tensorflow.keras.callbacks import ModelCheckpoint\n",
    "from tensorflow.keras.layers import BatchNormalization,Dropout,Flatten\n",
    "from tensorflow.keras.layers import LeakyReLU,PReLU,ELU,ThresholdedReLU,ReLU\n",
    "from sklearn.metrics import classification_report\n",
    "from sklearn.metrics import confusion_matrix\n",
    "import matplotlib.pyplot as plt\n",
    "import random"
   ]
  },
  {
   "cell_type": "markdown",
   "id": "wrong-selling",
   "metadata": {},
   "source": [
    "## Data related parameters\n",
    "\n",
    "We define a few parameters related to the data we are going to use"
   ]
  },
  {
   "cell_type": "code",
   "execution_count": 2,
   "id": "agricultural-server",
   "metadata": {},
   "outputs": [],
   "source": [
    "# Parameters of the model \n",
    "num_classes = 10 # number of output class (1-9)\n",
    "input_shape = (28, 28, 1) # shape of the input, we have 28 x 28 pixel size images of each number\n"
   ]
  },
  {
   "cell_type": "markdown",
   "id": "ethical-status",
   "metadata": {},
   "source": [
    "## Loading Data\n",
    "\n",
    "Next step is to actually load the MNIST database and perform some simple pre-process in order to introduce it to the neural network\n"
   ]
  },
  {
   "cell_type": "code",
   "execution_count": 3,
   "id": "twenty-marketing",
   "metadata": {},
   "outputs": [
    {
     "name": "stdout",
     "output_type": "stream",
     "text": [
      "Downloading data from https://storage.googleapis.com/tensorflow/tf-keras-datasets/mnist.npz\n",
      "11490434/11490434 [==============================] - 1s 0us/step\n",
      "x_train shape: (60000, 28, 28, 1)\n",
      "60000 train samples\n",
      "10000 test samples\n"
     ]
    }
   ],
   "source": [
    "(x_train, y_train), (x_test, y_test) = tf.keras.datasets.mnist.load_data() # we load the data from keras.datsets library\n",
    "\n",
    "# This automatically generates the train & test set (otherwise we could have done it manually or through another library)\n",
    "\n",
    "## Normalization ##\n",
    "# Scale images to the [0, 1] range\n",
    "x_train = x_train.astype(\"float32\") / 255 # images are encoded with up to 256 so to normalize from 0-1 we simply divide\n",
    "x_test = x_test.astype(\"float32\") / 255\n",
    "\n",
    "# Make sure images have shape (28, 28, 1)\n",
    "x_train = np.expand_dims(x_train, -1)\n",
    "x_test = np.expand_dims(x_test, -1)\n",
    "print(\"x_train shape:\", x_train.shape)\n",
    "print(x_train.shape[0], \"train samples\")\n",
    "print(x_test.shape[0], \"test samples\")\n",
    "\n",
    "y_train_initial = y_train\n",
    "# convert class vectors to binary class matrices\n",
    "y_train = keras.utils.to_categorical(y_train, num_classes)\n",
    "y_test = keras.utils.to_categorical(y_test, num_classes)\n"
   ]
  },
  {
   "cell_type": "markdown",
   "id": "d090ae05-7ddb-4564-8388-a09d0bf1f641",
   "metadata": {},
   "source": [
    "## Visualize the dataset\n",
    "\n",
    "Let's see a few examples by eye now."
   ]
  },
  {
   "cell_type": "code",
   "execution_count": 1,
   "id": "ec324374-2360-4033-958b-bf59c88892c9",
   "metadata": {},
   "outputs": [
    {
     "ename": "NameError",
     "evalue": "name 'plt' is not defined",
     "output_type": "error",
     "traceback": [
      "\u001b[1;31m---------------------------------------------------------------------------\u001b[0m",
      "\u001b[1;31mNameError\u001b[0m                                 Traceback (most recent call last)",
      "\u001b[1;32m~\\AppData\\Local\\Temp\\ipykernel_22740\\1014159069.py\u001b[0m in \u001b[0;36m<cell line: 3>\u001b[1;34m()\u001b[0m\n\u001b[0;32m      1\u001b[0m \u001b[0mclass_names\u001b[0m \u001b[1;33m=\u001b[0m \u001b[1;33m[\u001b[0m\u001b[1;34m'0'\u001b[0m\u001b[1;33m,\u001b[0m \u001b[1;34m'1'\u001b[0m\u001b[1;33m,\u001b[0m\u001b[1;34m'2'\u001b[0m\u001b[1;33m,\u001b[0m\u001b[1;34m'3'\u001b[0m\u001b[1;33m,\u001b[0m\u001b[1;34m'4'\u001b[0m\u001b[1;33m,\u001b[0m\u001b[1;34m'5'\u001b[0m\u001b[1;33m,\u001b[0m\u001b[1;34m'6'\u001b[0m\u001b[1;33m,\u001b[0m\u001b[1;34m'7'\u001b[0m\u001b[1;33m,\u001b[0m\u001b[1;34m'8'\u001b[0m\u001b[1;33m,\u001b[0m\u001b[1;34m'9'\u001b[0m\u001b[1;33m]\u001b[0m\u001b[1;33m\u001b[0m\u001b[1;33m\u001b[0m\u001b[0m\n\u001b[0;32m      2\u001b[0m \u001b[1;33m\u001b[0m\u001b[0m\n\u001b[1;32m----> 3\u001b[1;33m \u001b[0mplt\u001b[0m\u001b[1;33m.\u001b[0m\u001b[0mfigure\u001b[0m\u001b[1;33m(\u001b[0m\u001b[0mfigsize\u001b[0m\u001b[1;33m=\u001b[0m\u001b[1;33m(\u001b[0m\u001b[1;36m10\u001b[0m\u001b[1;33m,\u001b[0m\u001b[1;36m10\u001b[0m\u001b[1;33m)\u001b[0m\u001b[1;33m)\u001b[0m\u001b[1;33m\u001b[0m\u001b[1;33m\u001b[0m\u001b[0m\n\u001b[0m\u001b[0;32m      4\u001b[0m \u001b[1;32mfor\u001b[0m \u001b[0mi\u001b[0m \u001b[1;32min\u001b[0m \u001b[0mrange\u001b[0m\u001b[1;33m(\u001b[0m\u001b[1;36m25\u001b[0m\u001b[1;33m)\u001b[0m\u001b[1;33m:\u001b[0m\u001b[1;33m\u001b[0m\u001b[1;33m\u001b[0m\u001b[0m\n\u001b[0;32m      5\u001b[0m     \u001b[0mrandom_image\u001b[0m \u001b[1;33m=\u001b[0m \u001b[0mrandom\u001b[0m\u001b[1;33m.\u001b[0m\u001b[0mrandint\u001b[0m\u001b[1;33m(\u001b[0m\u001b[1;36m1\u001b[0m\u001b[1;33m,\u001b[0m \u001b[1;36m60000\u001b[0m\u001b[1;33m)\u001b[0m\u001b[1;33m\u001b[0m\u001b[1;33m\u001b[0m\u001b[0m\n",
      "\u001b[1;31mNameError\u001b[0m: name 'plt' is not defined"
     ]
    }
   ],
   "source": [
    "class_names = ['0', '1','2','3','4','5','6','7','8','9']\n",
    "\n",
    "plt.figure(figsize=(10,10))\n",
    "for i in range(25):\n",
    "    random_image = random.randint(1, 60000)\n",
    "    plt.subplot(5,5,i+1)\n",
    "    plt.xticks([])\n",
    "    plt.yticks([])\n",
    "    plt.grid(False)\n",
    "    plt.imshow(x_train[random_image])\n",
    "    plt.xlabel(class_names[y_train_initial[random_image]])\n",
    "plt.show()"
   ]
  },
  {
   "cell_type": "markdown",
   "id": "median-survivor",
   "metadata": {},
   "source": [
    "## Model related parameters\n",
    "\n",
    "Here we define hyperparameters that are going to be used in the model and training below\n"
   ]
  },
  {
   "cell_type": "code",
   "execution_count": 4,
   "id": "iraqi-biodiversity",
   "metadata": {},
   "outputs": [],
   "source": [
    "n_epochs = 5 # Number of epochs, where 1 epoch = 1 use of the training set\n",
    "n_batch_size = 128 # how many inputs are going to be used at the same time during one epoch. \n",
    "# note: small batch size can make the training faster but can make the generalization harder to achieve (less variety in sample)\n",
    "\n",
    "# number of neurons for the 3 hidden layers\n",
    "neurons_l1 = 400\n",
    "neurons_l2 = 200\n",
    "neurons_l3 = 150"
   ]
  },
  {
   "cell_type": "markdown",
   "id": "viral-eight",
   "metadata": {},
   "source": [
    "## Generating & compiling the model\n",
    "\n",
    "Below we'll create and compile the feed forward neural network we will use for this task"
   ]
  },
  {
   "cell_type": "code",
   "execution_count": 6,
   "id": "educational-brook",
   "metadata": {},
   "outputs": [],
   "source": [
    "model = keras.Sequential()\n",
    "model.add(Flatten()) # Since the image is 2D we need to \"flatten\" it into a single array in order to be used as input \n",
    "model.add(Dense(neurons_l1))\n",
    "model.add(ReLU()) # one can use other activation functions for the same purpose (check a few if you want)\n",
    "model.add(Dense(neurons_l2))\n",
    "model.add(ReLU())\n",
    "model.add(Dense(neurons_l3))\n",
    "model.add(ReLU())\n",
    "model.add(Dropout(0.5)) # this layers protects the model from overfitting to the test data. Can we replace it maybe?\n",
    "model.add(Dense(num_classes,activation='softmax')) # multi-class classification problem : softmax activation\n",
    "model.compile(\n",
    "              optimizer=\"adam\", # any optimizer works well, adam is a standard choice for simple problems\n",
    "              loss=\"categorical_crossentropy\", # loss function for classification = crossentropy\n",
    "              metrics=[\"accuracy\"])"
   ]
  },
  {
   "cell_type": "markdown",
   "id": "maritime-square",
   "metadata": {},
   "source": [
    "## Example of Training proccedure\n",
    "\n",
    "\n",
    "Let's now train our model for a few epochs"
   ]
  },
  {
   "cell_type": "code",
   "execution_count": 7,
   "id": "varied-assurance",
   "metadata": {},
   "outputs": [
    {
     "name": "stdout",
     "output_type": "stream",
     "text": [
      "Epoch 1/5\n",
      "469/469 [==============================] - 2s 3ms/step - loss: 0.3028 - accuracy: 0.9093\n",
      "Epoch 2/5\n",
      "469/469 [==============================] - 2s 3ms/step - loss: 0.1100 - accuracy: 0.9672\n",
      "Epoch 3/5\n",
      "469/469 [==============================] - 2s 4ms/step - loss: 0.0759 - accuracy: 0.9774\n",
      "Epoch 4/5\n",
      "469/469 [==============================] - 2s 4ms/step - loss: 0.0529 - accuracy: 0.9840\n",
      "Epoch 5/5\n",
      "469/469 [==============================] - 2s 4ms/step - loss: 0.0432 - accuracy: 0.9863\n"
     ]
    }
   ],
   "source": [
    "history = model.fit(x_train, y_train, epochs=n_epochs, batch_size=n_batch_size)"
   ]
  },
  {
   "cell_type": "markdown",
   "id": "embedded-program",
   "metadata": {},
   "source": [
    "## Evaluation\n",
    "\n",
    "To evulate our model we need to see how well it performs to unknown data (test set):"
   ]
  },
  {
   "cell_type": "code",
   "execution_count": 8,
   "id": "measured-asset",
   "metadata": {},
   "outputs": [
    {
     "name": "stdout",
     "output_type": "stream",
     "text": [
      "Test loss: 0.0759454071521759\n",
      "Test accuracy: 0.9775999784469604\n"
     ]
    }
   ],
   "source": [
    "score = model.evaluate(x_test, y_test, verbose=0)\n",
    "print(\"Test loss:\", score[0])\n",
    "print(\"Test accuracy:\", score[1])"
   ]
  },
  {
   "cell_type": "code",
   "execution_count": 15,
   "id": "flexible-advocacy",
   "metadata": {},
   "outputs": [
    {
     "name": "stdout",
     "output_type": "stream",
     "text": [
      "313/313 [==============================] - 0s 1ms/step\n",
      "[[ 976    0    0    1    0    0    1    1    1    0]\n",
      " [   4 1119    3    2    0    0    5    0    2    0]\n",
      " [   9    1 1010    1    1    0    0    6    4    0]\n",
      " [   3    0    6  981    0   10    0    4    4    2]\n",
      " [   5    0    4    0  949    0    4    1    0   19]\n",
      " [   3    0    0    3    1  869    8    1    4    3]\n",
      " [  10    2    0    0    2    1  943    0    0    0]\n",
      " [   1    3    7    1    0    0    0 1009    2    5]\n",
      " [   9    0    1    3    4    3    5    4  940    5]\n",
      " [   4    2    0    2    9    1    0    9    2  980]]\n",
      "              precision    recall  f1-score   support\n",
      "\n",
      "           0       0.95      1.00      0.97       980\n",
      "           1       0.99      0.99      0.99      1135\n",
      "           2       0.98      0.98      0.98      1032\n",
      "           3       0.99      0.97      0.98      1010\n",
      "           4       0.98      0.97      0.97       982\n",
      "           5       0.98      0.97      0.98       892\n",
      "           6       0.98      0.98      0.98       958\n",
      "           7       0.97      0.98      0.98      1028\n",
      "           8       0.98      0.97      0.97       974\n",
      "           9       0.97      0.97      0.97      1009\n",
      "\n",
      "    accuracy                           0.98     10000\n",
      "   macro avg       0.98      0.98      0.98     10000\n",
      "weighted avg       0.98      0.98      0.98     10000\n",
      "\n"
     ]
    }
   ],
   "source": [
    "predictions = model.predict(x_test)\n",
    "predictions_binary = np.argmax(predictions, axis = 1)\n",
    "y_test_binary = np.argmax(y_test, axis=1)\n",
    "    \n",
    "cr = classification_report(y_test_binary, predictions_binary)\n",
    "cm = confusion_matrix(y_test_binary, predictions_binary)\n",
    "print(cm)\n",
    "print(cr)"
   ]
  }
 ],
 "metadata": {
  "kernelspec": {
   "display_name": "Python 3 (ipykernel)",
   "language": "python",
   "name": "python3"
  },
  "language_info": {
   "codemirror_mode": {
    "name": "ipython",
    "version": 3
   },
   "file_extension": ".py",
   "mimetype": "text/x-python",
   "name": "python",
   "nbconvert_exporter": "python",
   "pygments_lexer": "ipython3",
   "version": "3.9.13"
  }
 },
 "nbformat": 4,
 "nbformat_minor": 5
}
