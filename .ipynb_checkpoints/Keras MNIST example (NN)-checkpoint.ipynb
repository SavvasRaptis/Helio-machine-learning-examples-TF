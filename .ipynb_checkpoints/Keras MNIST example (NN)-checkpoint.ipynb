{
 "cells": [
  {
   "cell_type": "markdown",
   "id": "marked-softball",
   "metadata": {},
   "source": [
    "# Initialization\n",
    "\n",
    "## Importing libraries\n",
    "\n",
    "As a first step we load the different libraries we are going to use, in this simple example we only need tensorflow (keras) and numpy"
   ]
  },
  {
   "cell_type": "code",
   "execution_count": 3,
   "id": "athletic-singapore",
   "metadata": {},
   "outputs": [],
   "source": [
    "import tensorflow as tf\n",
    "import numpy as np\n",
    "from tensorflow.keras import backend as K\n",
    "from tensorflow import keras\n",
    "from tensorflow.keras import layers\n",
    "from tensorflow.keras.layers import Dense,Input\n",
    "from tensorflow.keras.callbacks import ModelCheckpoint\n",
    "from tensorflow.keras.layers import BatchNormalization,Dropout,Flatten\n",
    "from tensorflow.keras.layers import LeakyReLU,PReLU,ELU,ThresholdedReLU,ReLU"
   ]
  },
  {
   "cell_type": "markdown",
   "id": "established-morrison",
   "metadata": {},
   "source": [
    "## Data related parameters\n",
    "\n",
    "We define a few parameters related to the data we are going to use"
   ]
  },
  {
   "cell_type": "code",
   "execution_count": 8,
   "id": "double-gossip",
   "metadata": {},
   "outputs": [],
   "source": [
    "# Parameters of the model \n",
    "num_classes = 10 # number of output class (1-9)\n",
    "input_shape = (28, 28, 1) # shape of the input, we have 28 x 28 pixel size images of each number\n"
   ]
  },
  {
   "cell_type": "markdown",
   "id": "included-bracelet",
   "metadata": {},
   "source": [
    "## Loading Data\n",
    "\n",
    "Next step is to actually load the MNIST database and perform some simple pre-process in order to introduce it to the neural network\n"
   ]
  },
  {
   "cell_type": "code",
   "execution_count": 10,
   "id": "twenty-marketing",
   "metadata": {},
   "outputs": [
    {
     "name": "stdout",
     "output_type": "stream",
     "text": [
      "x_train shape: (60000, 28, 28, 1)\n",
      "60000 train samples\n",
      "10000 test samples\n"
     ]
    }
   ],
   "source": [
    "(x_train, y_train), (x_test, y_test) = tf.keras.datasets.mnist.load_data() # we load the data from keras.datsets library\n",
    "\n",
    "# This automatically generates the train & test set (otherwise we could have done it manually or through another library)\n",
    "\n",
    "## Normalization ##\n",
    "# Scale images to the [0, 1] range\n",
    "x_train = x_train.astype(\"float32\") / 255 # images are encoded with up to 256 so to normalize from 0-1 we simply divide\n",
    "x_test = x_test.astype(\"float32\") / 255\n",
    "\n",
    "# Make sure images have shape (28, 28, 1)\n",
    "x_train = np.expand_dims(x_train, -1)\n",
    "x_test = np.expand_dims(x_test, -1)\n",
    "print(\"x_train shape:\", x_train.shape)\n",
    "print(x_train.shape[0], \"train samples\")\n",
    "print(x_test.shape[0], \"test samples\")\n",
    "\n",
    "\n",
    "# convert class vectors to binary class matrices\n",
    "y_train = keras.utils.to_categorical(y_train, num_classes)\n",
    "y_test = keras.utils.to_categorical(y_test, num_classes)\n"
   ]
  },
  {
   "cell_type": "markdown",
   "id": "decreased-civilian",
   "metadata": {},
   "source": [
    "## Model related parameters\n",
    "\n",
    "Here we define hyperparameters that are going to be used in the model and training below\n"
   ]
  },
  {
   "cell_type": "code",
   "execution_count": 9,
   "id": "infinite-turning",
   "metadata": {},
   "outputs": [],
   "source": [
    "n_epochs = 5 # Number of epochs, where 1 epoch = 1 use of the training set\n",
    "n_batch_size = 128 # how many inputs are going to be used at the same time during one epoch. \n",
    "# note: small batch size can make the training faster but can make the generalization harder to achieve (less variety in sample)\n",
    "\n",
    "# number of neurons for the 3 hidden layers\n",
    "neurons_l1 = 400\n",
    "neurons_l2 = 200\n",
    "neurons_l3 = 150"
   ]
  },
  {
   "cell_type": "markdown",
   "id": "finished-modem",
   "metadata": {},
   "source": [
    "## Generating & compiling the model\n",
    "\n",
    "Below we'll create and compile the feed forward neural network we will use for this task"
   ]
  },
  {
   "cell_type": "code",
   "execution_count": 11,
   "id": "educational-brook",
   "metadata": {},
   "outputs": [],
   "source": [
    "\n",
    "model = keras.Sequential()\n",
    "model.add(Flatten()) # Since the image is 2D we need to \"flatten\" it into a single array in order to be used as input \n",
    "model.add(Dense(neurons_l1))\n",
    "model.add(ReLU()) # one can use other activation functions for the same purpose (check a few if you want)\n",
    "model.add(Dense(neurons_l2))\n",
    "model.add(ReLU())\n",
    "model.add(Dense(neurons_l3))\n",
    "model.add(ReLU())\n",
    "model.add(Dropout(0.5)) # this layers protects the model from overfitting to the test data. Can we replace it maybe?\n",
    "model.add(Dense(num_classes,activation='softmax')) # multi-class classification problem : softmax activation\n",
    "model.compile(\n",
    "              optimizer=\"adam\", # any optimizer works well, adam is a standard choice for simple problems\n",
    "              loss=\"categorical_crossentropy\", # loss function for classification = crossentropy\n",
    "              metrics=[\"accuracy\"])"
   ]
  },
  {
   "cell_type": "markdown",
   "id": "maritime-square",
   "metadata": {},
   "source": [
    "## Example of Training proccedure\n",
    "\n",
    "\n",
    "Let's now train our model for a few epochs"
   ]
  },
  {
   "cell_type": "code",
   "execution_count": 10,
   "id": "varied-assurance",
   "metadata": {},
   "outputs": [
    {
     "name": "stdout",
     "output_type": "stream",
     "text": [
      "Train on 60000 samples\n",
      "Epoch 1/5\n",
      "60000/60000 [==============================] - 18s 305us/sample - loss: 0.3047 - accuracy: 0.9104\n",
      "Epoch 2/5\n",
      "60000/60000 [==============================] - 12s 195us/sample - loss: 0.1143 - accuracy: 0.9671\n",
      "Epoch 3/5\n",
      "60000/60000 [==============================] - 12s 208us/sample - loss: 0.0751 - accuracy: 0.9782\n",
      "Epoch 4/5\n",
      "60000/60000 [==============================] - 13s 209us/sample - loss: 0.0572 - accuracy: 0.9831\n",
      "Epoch 5/5\n",
      "60000/60000 [==============================] - 11s 190us/sample - loss: 0.0436 - accuracy: 0.9865\n"
     ]
    }
   ],
   "source": [
    "history = model.fit(x_train, y_train, epochs=n_epochs, batch_size=n_batch_size)"
   ]
  },
  {
   "cell_type": "markdown",
   "id": "skilled-canberra",
   "metadata": {},
   "source": [
    "## Evaluation\n",
    "\n",
    "To evulate our model we need to see how well it performs to unknown data (test set):"
   ]
  },
  {
   "cell_type": "code",
   "execution_count": 6,
   "id": "measured-asset",
   "metadata": {},
   "outputs": [
    {
     "name": "stdout",
     "output_type": "stream",
     "text": [
      "Test loss: 0.07274865704858675\n",
      "Test accuracy: 0.9785\n"
     ]
    }
   ],
   "source": [
    "score = model.evaluate(x_test, y_test, verbose=0)\n",
    "print(\"Test loss:\", score[0])\n",
    "print(\"Test accuracy:\", score[1])"
   ]
  },
  {
   "cell_type": "code",
   "execution_count": null,
   "id": "purple-currency",
   "metadata": {},
   "outputs": [],
   "source": []
  }
 ],
 "metadata": {
  "kernelspec": {
   "display_name": "Python 3",
   "language": "python",
   "name": "python3"
  },
  "language_info": {
   "codemirror_mode": {
    "name": "ipython",
    "version": 3
   },
   "file_extension": ".py",
   "mimetype": "text/x-python",
   "name": "python",
   "nbconvert_exporter": "python",
   "pygments_lexer": "ipython3",
   "version": "3.7.10"
  }
 },
 "nbformat": 4,
 "nbformat_minor": 5
}
